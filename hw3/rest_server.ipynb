{
 "cells": [
  {
   "cell_type": "code",
   "execution_count": 125,
   "metadata": {},
   "outputs": [],
   "source": [
    "import cherrypy\n",
    "import json\n",
    "import redis\n",
    "import uuid\n",
    "from redis.commands.json.path import Path\n",
    "from time import time"
   ]
  },
  {
   "cell_type": "code",
   "execution_count": 2,
   "metadata": {},
   "outputs": [
    {
     "name": "stdout",
     "output_type": "stream",
     "text": [
      "Redis Connected: True\n"
     ]
    }
   ],
   "source": [
    "REDIS_HOST = 'redis-19577.c81.us-east-1-2.ec2.cloud.redislabs.com'\n",
    "REDIS_PORT = 19577\n",
    "REDIS_USERNAME = 'default'\n",
    "REDIS_PASSWORD = 'so7BaeUMztM1pEpKusnIWrk9PN0nSVdm'\n",
    "\n",
    "# Connect to Redis server\n",
    "redis_client = redis.Redis(host=REDIS_HOST, port=REDIS_PORT, username=REDIS_USERNAME, password=REDIS_PASSWORD)\n",
    "is_connected = redis_client.ping()\n",
    "print('Redis Connected:', is_connected)"
   ]
  },
  {
   "cell_type": "code",
   "execution_count": 16,
   "metadata": {},
   "outputs": [],
   "source": [
    "# endpoint /status\n",
    "class Status(object):\n",
    "    exposed = True\n",
    "\n",
    "    def GET(self, *path, **query):\n",
    "        response_dict = {\n",
    "            'status': 'online'\n",
    "        }\n",
    "        response = json.dumps(response_dict)\n",
    "\n",
    "        return response"
   ]
  },
  {
   "cell_type": "code",
   "execution_count": 51,
   "metadata": {},
   "outputs": [],
   "source": [
    "# endpoint /status\n",
    "class Devices(object):\n",
    "    exposed = True\n",
    "\n",
    "\n",
    "    def GET(self, *path, **query):\n",
    "        reg = '*:battery'\n",
    "        keys = redis_client.keys('*:battery')\n",
    "        items = set()\n",
    "\n",
    "        for key in keys:\n",
    "            key = key.decode()\n",
    "            mac = key.removesuffix(':battery')\n",
    "            items.add(mac)\n",
    "        \n",
    "\n",
    "\n",
    "        response_dict = {\n",
    "            'mac_addresses': list(items)\n",
    "        }\n",
    "        response = json.dumps(response_dict)\n",
    "\n",
    "        cherrypy.response.status = \"200 OK: Everything worked as expected\"\n",
    "\n",
    "        return response"
   ]
  },
  {
   "cell_type": "code",
   "execution_count": 147,
   "metadata": {},
   "outputs": [],
   "source": [
    "#endpoint /device\n",
    "class Device(object):\n",
    "    exposed = True\n",
    "\n",
    "    def GET(self, *path, **query):\n",
    "\n",
    "        #Check if the path is inserted\n",
    "        if len(path) != 1:\n",
    "            print('--------Missing path')\n",
    "            #If not return a Bad request error\n",
    "            raise cherrypy.HTTPError(400, message='Bad Request: missing MAC address.')\n",
    "\n",
    "        mac_address = path[0]\n",
    "        from_ = query.get('from', -1)\n",
    "        to_ = query.get('to', -1)\n",
    "\n",
    "\n",
    "        #Check if the start time is inserted\n",
    "        if int(from_) < 0:\n",
    "            #Return a Bad request error\n",
    "            raise cherrypy.HTTPError(400, 'Bad Request: missing start time.')\n",
    "        \n",
    "        #Check if the end time is inserted\n",
    "        if  int(to_) < 0:\n",
    "            #Return a Bad request error\n",
    "            raise cherrypy.HTTPError(400, 'Bad Request: missing end time.')\n",
    "\n",
    "        \n",
    "        battery_key = mac_address+':battery'\n",
    "        power_key = mac_address+':power'\n",
    "        print(type(battery_key))\n",
    "        battery_values = redis_client.ts().range(battery_key, from_time=from_, to_time=to_)\n",
    "        power_values = redis_client.ts().range(power_key, from_time=from_, to_time=to_)\n",
    "        \n",
    "        \n",
    "        response_dict = {\n",
    "            'mac_address': mac_address,\n",
    "            'timestamps': list(map(lambda x: x[0], battery_values)),\n",
    "            'battery_levels': list(map(lambda x: x[1], battery_values)),\n",
    "            'power_plugged':list(map(lambda x:x[1], power_values))\n",
    "        }\n",
    "        response = json.dumps(response_dict)\n",
    "\n",
    "\n",
    "        cherrypy.response.status = \"200 OK: Everything worked as expected\"\n",
    "        return response\n",
    "\n",
    "    def DELETE(self, *path, **query):\n",
    "        if len(path) != 1:\n",
    "            raise cherrypy.HTTPError(400, 'Bad Request: missing MAC address')\n",
    "        mac_address = path[0]\n",
    "        #Try to remove the item\n",
    "        battery_key = mac_address+':battery'\n",
    "        power_key = mac_address+':power'\n",
    "        print(battery_key)\n",
    "        battery_found = redis_client.delete(battery_key)\n",
    "        power_found = redis_client.delete(power_key)\n",
    "\n",
    "        #Check if the item has been removed\n",
    "        if battery_found == 0 and power_found == 0:\n",
    "            raise cherrypy.HTTPError(404, 'Not Found: invalid MAC address')\n",
    "\n",
    "        return \n",
    "\n"
   ]
  },
  {
   "cell_type": "code",
   "execution_count": 148,
   "metadata": {},
   "outputs": [
    {
     "name": "stderr",
     "output_type": "stream",
     "text": [
      "[14/Jan/2023:16:57:22] ENGINE Bus STARTING\n",
      "[14/Jan/2023:16:57:22] ENGINE Started monitor thread 'Autoreloader'.\n",
      "[14/Jan/2023:16:57:22] ENGINE Serving on http://0.0.0.0:8080\n",
      "[14/Jan/2023:16:57:22] ENGINE Bus STARTED\n"
     ]
    },
    {
     "name": "stdout",
     "output_type": "stream",
     "text": [
      "127.0.0.1 - - [14/Jan/2023:16:57:25] \"GET /devices HTTP/1.1\" 200 91 \"\" \"vscode-restclient\"\n",
      "127.0.0.1 - - [14/Jan/2023:16:57:26] \"GET /online HTTP/1.1\" 200 20 \"\" \"vscode-restclient\"\n",
      "<class 'str'>\n",
      "127.0.0.1 - - [14/Jan/2023:16:57:28] \"GET /device/0xdca9047270e2?from=0&to=1673710261095 HTTP/1.1\" 200 94 \"\" \"vscode-restclient\"\n",
      "0xdca9047270e2:battery\n",
      "127.0.0.1 - - [14/Jan/2023:16:57:31] \"DELETE /device/0xdca9047270e2 HTTP/1.1\" 200 - \"\" \"vscode-restclient\"\n",
      "127.0.0.1 - - [14/Jan/2023:16:57:33] \"GET /devices HTTP/1.1\" 200 73 \"\" \"vscode-restclient\"\n",
      "127.0.0.1 - - [14/Jan/2023:16:57:56] \"GET /devices HTTP/1.1\" 200 73 \"\" \"vscode-restclient\"\n",
      "127.0.0.1 - - [14/Jan/2023:16:58:00] \"GET /online HTTP/1.1\" 200 20 \"\" \"vscode-restclient\"\n",
      "127.0.0.1 - - [14/Jan/2023:16:58:02] \"GET /devices HTTP/1.1\" 200 73 \"\" \"vscode-restclient\"\n",
      "<class 'str'>\n",
      "127.0.0.1 - - [14/Jan/2023:16:58:07] \"GET /device/0x17a9ed6a3019?from=0&to=1673710261095 HTTP/1.1\" 200 660 \"\" \"vscode-restclient\"\n",
      "0x17a9ed6a3019:battery\n",
      "127.0.0.1 - - [14/Jan/2023:16:58:12] \"DELETE /device/0x17a9ed6a3019 HTTP/1.1\" 200 - \"\" \"vscode-restclient\"\n",
      "127.0.0.1 - - [14/Jan/2023:16:58:14] \"GET /devices HTTP/1.1\" 200 55 \"\" \"vscode-restclient\"\n",
      "0x17a9ed6a3019:battery\n",
      "127.0.0.1 - - [14/Jan/2023:16:58:16] \"DELETE /device/0x17a9ed6a3019 HTTP/1.1\" 404 1639 \"\" \"vscode-restclient\"\n"
     ]
    },
    {
     "name": "stderr",
     "output_type": "stream",
     "text": [
      "[14/Jan/2023:16:58:24] ENGINE Keyboard Interrupt: shutting down bus\n",
      "[14/Jan/2023:16:58:24] ENGINE Bus STOPPING\n",
      "[14/Jan/2023:16:58:25] ENGINE HTTP Server cherrypy._cpwsgi_server.CPWSGIServer(('0.0.0.0', 8080)) shut down\n",
      "[14/Jan/2023:16:58:25] ENGINE Stopped thread 'Autoreloader'.\n",
      "[14/Jan/2023:16:58:25] ENGINE Bus STOPPED\n",
      "[14/Jan/2023:16:58:25] ENGINE Bus EXITING\n",
      "[14/Jan/2023:16:58:25] ENGINE Bus EXITED\n",
      "[14/Jan/2023:16:58:25] ENGINE Waiting for child threads to terminate...\n"
     ]
    }
   ],
   "source": [
    "conf = {'/': {'request.dispatch': cherrypy.dispatch.MethodDispatcher()}}\n",
    "cherrypy.tree.mount(Status(), '/online', conf)\n",
    "cherrypy.tree.mount(Devices(), '/devices', conf)\n",
    "cherrypy.tree.mount(Device(), '/device', conf)\n",
    "cherrypy.config.update({'server.socket_host': '0.0.0.0'})\n",
    "cherrypy.config.update({'server.socket_port': 8080})\n",
    "cherrypy.engine.start()\n",
    "cherrypy.engine.block()"
   ]
  }
 ],
 "metadata": {
  "kernelspec": {
   "display_name": "iot_venv",
   "language": "python",
   "name": "python3"
  },
  "language_info": {
   "codemirror_mode": {
    "name": "ipython",
    "version": 3
   },
   "file_extension": ".py",
   "mimetype": "text/x-python",
   "name": "python",
   "nbconvert_exporter": "python",
   "pygments_lexer": "ipython3",
   "version": "3.10.7"
  },
  "orig_nbformat": 4,
  "vscode": {
   "interpreter": {
    "hash": "7ec8a49582dc174f50ebcd39bc33f3f70832f359e4b96a12db7a45f7fb428135"
   }
  }
 },
 "nbformat": 4,
 "nbformat_minor": 2
}
